{
 "cells": [
  {
   "cell_type": "markdown",
   "id": "4feeb538",
   "metadata": {},
   "source": [
    "## Win probability for all premier league teams"
   ]
  },
  {
   "cell_type": "code",
   "execution_count": 1,
   "id": "37fa30d8",
   "metadata": {},
   "outputs": [],
   "source": [
    "import math"
   ]
  },
  {
   "cell_type": "code",
   "execution_count": 2,
   "id": "51468d43",
   "metadata": {},
   "outputs": [
    {
     "name": "stdout",
     "output_type": "stream",
     "text": [
      "0.12876065177021057\n"
     ]
    }
   ],
   "source": [
    "# no of games arsenal will win\n",
    "k = 20\n",
    "n = 38\n",
    "p = k/n\n",
    "win_prob = (math.comb(n,k))*p**20*(1-p)**(n-k)\n",
    "print(win_prob)"
   ]
  },
  {
   "cell_type": "code",
   "execution_count": 3,
   "id": "57b728c4",
   "metadata": {},
   "outputs": [
    {
     "name": "stdout",
     "output_type": "stream",
     "text": [
      "0.12929097913764\n"
     ]
    }
   ],
   "source": [
    "# no of games man city will win\n",
    "k = 21\n",
    "n = 38\n",
    "p = k/n\n",
    "win_prob = (math.comb(n,k))*p**k*(1-p)**(n-k)\n",
    "print(win_prob)"
   ]
  },
  {
   "cell_type": "code",
   "execution_count": 4,
   "id": "8948be88",
   "metadata": {},
   "outputs": [
    {
     "name": "stdout",
     "output_type": "stream",
     "text": [
      "0.1353884449176747\n"
     ]
    }
   ],
   "source": [
    "# no of games liverpool will win\n",
    "k = 25\n",
    "n = 38\n",
    "p = k/n\n",
    "win_prob = (math.comb(n,k))*p**k*(1-p)**(n-k)\n",
    "print(win_prob)"
   ]
  },
  {
   "cell_type": "code",
   "execution_count": 5,
   "id": "661b1192",
   "metadata": {},
   "outputs": [
    {
     "name": "stdout",
     "output_type": "stream",
     "text": [
      "0.12876065177021057\n"
     ]
    }
   ],
   "source": [
    "# no of games chelsea will win\n",
    "k = 20\n",
    "n = 38\n",
    "p = k/n\n",
    "win_prob = (math.comb(n,k))*p**k*(1-p)**(n-k)\n",
    "print(win_prob)"
   ]
  },
  {
   "cell_type": "code",
   "execution_count": 6,
   "id": "ebc3af82",
   "metadata": {},
   "outputs": [
    {
     "name": "stdout",
     "output_type": "stream",
     "text": [
      "0.12876065177021057\n"
     ]
    }
   ],
   "source": [
    "# no of games newcastle will win\n",
    "k = 20\n",
    "n = 38\n",
    "p = k/n\n",
    "win_prob = (math.comb(n,k))*p**k*(1-p)**(n-k)\n",
    "print(win_prob)"
   ]
  },
  {
   "cell_type": "code",
   "execution_count": 3,
   "id": "0f818001",
   "metadata": {},
   "outputs": [],
   "source": [
    "\n",
    "def calculate_win_probability(team, k, n):\n",
    "    \"\"\"\n",
    "    Calculates the probability of a team winning exactly k games out of n using binomial distribution.\n",
    "\n",
    "    Parameters:\n",
    "    team (str): Name of the team\n",
    "    k (int): Number of games the team is expected to win\n",
    "    n (int): Total number of games\n",
    "\n",
    "    Returns:\n",
    "    float: Probability of winning exactly k games\n",
    "    \"\"\"\n",
    "    p = k / n  # Estimated win probability based on expected wins\n",
    "    win_prob = math.comb(n, k) * (p ** k) * ((1 - p) ** (n - k))\n",
    "    print(f\"Probability of {team} winning exactly {k} out of {n} games: {win_prob:.6f}\")\n",
    "    return win_prob"
   ]
  },
  {
   "cell_type": "code",
   "execution_count": 4,
   "id": "f58fa28d",
   "metadata": {},
   "outputs": [
    {
     "name": "stdout",
     "output_type": "stream",
     "text": [
      "Probability of Aston Villa winning exactly 19 out of 38 games: 0.128585\n"
     ]
    },
    {
     "data": {
      "text/plain": [
       "0.1285853206354659"
      ]
     },
     "execution_count": 4,
     "metadata": {},
     "output_type": "execute_result"
    }
   ],
   "source": [
    "calculate_win_probability(\"Aston Villa\", 19, 38)\n"
   ]
  },
  {
   "cell_type": "code",
   "execution_count": 6,
   "id": "e05e34e3",
   "metadata": {},
   "outputs": [
    {
     "name": "stdout",
     "output_type": "stream",
     "text": [
      "Probability of Notthingham Forest winning exactly 19 out of 38 games: 0.128585\n",
      "Probability of Brighton winning exactly 16 out of 38 games: 0.130190\n",
      "Probability of Bournemouth winning exactly 15 out of 38 games: 0.131480\n",
      "Probability of Brentford winning exactly 16 out of 38 games: 0.130190\n",
      "Probability of Fulham winning exactly 15 out of 38 games: 0.131480\n",
      "Probability of Crystal Palace winning exactly 13 out of 38 games: 0.135388\n"
     ]
    },
    {
     "data": {
      "text/plain": [
       "0.13538844491767502"
      ]
     },
     "execution_count": 6,
     "metadata": {},
     "output_type": "execute_result"
    }
   ],
   "source": [
    "calculate_win_probability(\"Notthingham Forest\", 19, 38)\n",
    "calculate_win_probability(\"Brighton\", 16, 38)\n",
    "calculate_win_probability(\"Bournemouth\", 15, 38)\n",
    "calculate_win_probability(\"Brentford\", 16, 38)\n",
    "calculate_win_probability(\"Fulham\", 15, 38)\n",
    "calculate_win_probability(\"Crystal Palace\", 13, 38)\n",
    "\n"
   ]
  },
  {
   "cell_type": "code",
   "execution_count": 7,
   "id": "65fe0a7f",
   "metadata": {},
   "outputs": [
    {
     "name": "stdout",
     "output_type": "stream",
     "text": [
      "Probability of Everton winning exactly 11 out of 38 games: 0.141497\n",
      "Probability of West Ham winning exactly 11 out of 38 games: 0.141497\n",
      "Probability of manchester United winning exactly 11 out of 38 games: 0.141497\n",
      "Probability of Wolves winning exactly 12 out of 38 games: 0.138124\n",
      "Probability of Tottenham winning exactly 11 out of 38 games: 0.141497\n",
      "Probability of Leicester winning exactly 6 out of 38 games: 0.174963\n",
      "Probability of Ipswich winning exactly 4 out of 38 games: 0.206486\n",
      "Probability of Southampton winning exactly 2 out of 38 games: 0.278054\n"
     ]
    },
    {
     "data": {
      "text/plain": [
       "0.27805369617002695"
      ]
     },
     "execution_count": 7,
     "metadata": {},
     "output_type": "execute_result"
    }
   ],
   "source": [
    "calculate_win_probability(\"Everton\", 11, 38)\n",
    "calculate_win_probability(\"West Ham\", 11, 38)\n",
    "calculate_win_probability(\"manchester United\", 11, 38)\n",
    "calculate_win_probability(\"Wolves\", 12, 38)\n",
    "calculate_win_probability(\"Tottenham\", 11, 38)\n",
    "calculate_win_probability(\"Leicester\", 6, 38)\n",
    "calculate_win_probability(\"Ipswich\", 4, 38)\n",
    "calculate_win_probability(\"Southampton\", 2, 38)"
   ]
  }
 ],
 "metadata": {
  "kernelspec": {
   "display_name": "base",
   "language": "python",
   "name": "python3"
  },
  "language_info": {
   "codemirror_mode": {
    "name": "ipython",
    "version": 3
   },
   "file_extension": ".py",
   "mimetype": "text/x-python",
   "name": "python",
   "nbconvert_exporter": "python",
   "pygments_lexer": "ipython3",
   "version": "3.12.4"
  }
 },
 "nbformat": 4,
 "nbformat_minor": 5
}
